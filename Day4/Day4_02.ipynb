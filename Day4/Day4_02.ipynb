{
 "cells": [
  {
   "cell_type": "markdown",
   "metadata": {},
   "source": [
    "# Day4_02 Pandas 增加列名和对应数字信息"
   ]
  },
  {
   "cell_type": "markdown",
   "metadata": {},
   "source": [
    "> 本文系参加《盖若 Python 训练营》的练习内容，训练营网址 https://www.gairuo.com/p/python-camp"
   ]
  },
  {
   "cell_type": "markdown",
   "metadata": {},
   "source": [
    "源数据如下："
   ]
  },
  {
   "cell_type": "code",
   "execution_count": 1,
   "metadata": {},
   "outputs": [
    {
     "data": {
      "text/html": [
       "<div>\n",
       "<style scoped>\n",
       "    .dataframe tbody tr th:only-of-type {\n",
       "        vertical-align: middle;\n",
       "    }\n",
       "\n",
       "    .dataframe tbody tr th {\n",
       "        vertical-align: top;\n",
       "    }\n",
       "\n",
       "    .dataframe thead th {\n",
       "        text-align: right;\n",
       "    }\n",
       "</style>\n",
       "<table border=\"1\" class=\"dataframe\">\n",
       "  <thead>\n",
       "    <tr style=\"text-align: right;\">\n",
       "      <th></th>\n",
       "      <th>基金名称</th>\n",
       "      <th>电子</th>\n",
       "      <th>传媒</th>\n",
       "      <th>计算机</th>\n",
       "    </tr>\n",
       "  </thead>\n",
       "  <tbody>\n",
       "    <tr>\n",
       "      <th>0</th>\n",
       "      <td>基金A</td>\n",
       "      <td>1</td>\n",
       "      <td>6</td>\n",
       "      <td>7</td>\n",
       "    </tr>\n",
       "    <tr>\n",
       "      <th>1</th>\n",
       "      <td>基金B</td>\n",
       "      <td>0</td>\n",
       "      <td>3</td>\n",
       "      <td>8</td>\n",
       "    </tr>\n",
       "    <tr>\n",
       "      <th>2</th>\n",
       "      <td>基金C</td>\n",
       "      <td>7</td>\n",
       "      <td>0</td>\n",
       "      <td>9</td>\n",
       "    </tr>\n",
       "  </tbody>\n",
       "</table>\n",
       "</div>"
      ],
      "text/plain": [
       "  基金名称  电子  传媒  计算机\n",
       "0  基金A   1   6    7\n",
       "1  基金B   0   3    8\n",
       "2  基金C   7   0    9"
      ]
     },
     "execution_count": 1,
     "metadata": {},
     "output_type": "execute_result"
    }
   ],
   "source": [
    "import io\n",
    "import pandas as pd\n",
    "\n",
    "\n",
    "data = '''\n",
    "基金名称 电子 传媒 计算机\n",
    " 基金A  1  6   7\n",
    " 基金B  0  3   8\n",
    " 基金C  7  0   9\n",
    "\n",
    "'''\n",
    "\n",
    "df = pd.read_csv(io.StringIO(data), delim_whitespace=True)\n",
    "df"
   ]
  },
  {
   "cell_type": "markdown",
   "metadata": {},
   "source": [
    "在原数据上增加一列，显示当前基金的列名和对应的数字，而且要从大到小排列，为 0 的不显示，即："
   ]
  },
  {
   "cell_type": "markdown",
   "metadata": {},
   "source": [
    "```\n",
    "基金A    计算机(7)、传媒(6)、电子(1)\n",
    "基金B          计算机(8)、传媒(3)\n",
    "基金C          计算机(9)、电子(7)\n",
    "```"
   ]
  },
  {
   "cell_type": "markdown",
   "metadata": {},
   "source": [
    "------"
   ]
  },
  {
   "cell_type": "code",
   "execution_count": 2,
   "metadata": {},
   "outputs": [],
   "source": [
    "df.set_index('基金名称', inplace=True)"
   ]
  },
  {
   "cell_type": "markdown",
   "metadata": {},
   "source": [
    "使用类似 Day3_01 中的方法对每一行中的各项进行排序整理"
   ]
  },
  {
   "cell_type": "code",
   "execution_count": 3,
   "metadata": {},
   "outputs": [],
   "source": [
    "s1 = df.apply(lambda x: x.sort_values(ascending=False).to_dict(), axis=1)"
   ]
  },
  {
   "cell_type": "code",
   "execution_count": 4,
   "metadata": {},
   "outputs": [
    {
     "data": {
      "text/plain": [
       "基金名称\n",
       "基金A    [计算机(7), 传媒(6), 电子(1)]\n",
       "基金B           [计算机(8), 传媒(3)]\n",
       "基金C           [计算机(9), 电子(7)]\n",
       "dtype: object"
      ]
     },
     "execution_count": 4,
     "metadata": {},
     "output_type": "execute_result"
    }
   ],
   "source": [
    "s1.map(lambda x: [f'{k}({v})' for k, v in x.items() if v>0])"
   ]
  },
  {
   "cell_type": "markdown",
   "metadata": {},
   "source": [
    "或者"
   ]
  },
  {
   "cell_type": "code",
   "execution_count": 5,
   "metadata": {},
   "outputs": [
    {
     "data": {
      "text/plain": [
       "基金名称\n",
       "基金A    [计算机(7), 传媒(6), 电子(1)]\n",
       "基金B           [计算机(8), 传媒(3)]\n",
       "基金C           [计算机(9), 电子(7)]\n",
       "dtype: object"
      ]
     },
     "execution_count": 5,
     "metadata": {},
     "output_type": "execute_result"
    }
   ],
   "source": [
    "(\n",
    "    df.apply(lambda x: x.sort_values(ascending=False).to_dict(), axis=1)\n",
    "    .map(lambda x: [f'{k}({v})' for k, v in x.items() if v>0])\n",
    ")"
   ]
  }
 ],
 "metadata": {
  "kernelspec": {
   "display_name": "pd2",
   "language": "python",
   "name": "python3"
  },
  "language_info": {
   "codemirror_mode": {
    "name": "ipython",
    "version": 3
   },
   "file_extension": ".py",
   "mimetype": "text/x-python",
   "name": "python",
   "nbconvert_exporter": "python",
   "pygments_lexer": "ipython3",
   "version": "3.11.2"
  }
 },
 "nbformat": 4,
 "nbformat_minor": 2
}
